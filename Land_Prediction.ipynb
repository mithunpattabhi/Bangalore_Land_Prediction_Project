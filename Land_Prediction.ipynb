{
 "cells": [
  {
   "cell_type": "code",
   "execution_count": null,
   "id": "fd480a6c-781c-4d97-86c7-91a99af97c11",
   "metadata": {},
   "outputs": [],
   "source": [
    "import pandas as pd\n",
    "import numpy as np\n",
    "import matplotlib.pyplot as plt\n",
    "from sklearn.linear_model import LinearRegression\n",
    "from sklearn.model_selection import train_test_split\n",
    "from sklearn.metrics import mean_squared_error, r2_score\n",
    "from sklearn.preprocessing import OneHotEncoder\n",
    "from sklearn.compose import ColumnTransformer\n",
    "from sklearn.pipeline import Pipeline"
   ]
  },
  {
   "cell_type": "code",
   "execution_count": null,
   "id": "a9d1b560-12ac-4211-a642-68493bda89d9",
   "metadata": {},
   "outputs": [],
   "source": [
    "data = pd.read_csv(\"new_data.csv\")\n",
    "data.head()"
   ]
  },
  {
   "cell_type": "code",
   "execution_count": null,
   "id": "6b748373-c92d-4466-a19e-81fe42f549a2",
   "metadata": {},
   "outputs": [],
   "source": [
    "X = data.drop(\"Price Per Sq Ft (INR)\", axis=1)\n",
    "y = data[\"Price Per Sq Ft (INR)\"]"
   ]
  },
  {
   "cell_type": "code",
   "execution_count": null,
   "id": "7b2e9e86-8a05-4b1a-bada-ec7aedc707c7",
   "metadata": {},
   "outputs": [],
   "source": [
    "categorial_cols = [\"Locality\",\"Land Type\",\"Zone\"]\n",
    "one_hot = OneHotEncoder()\n",
    "transformer = ColumnTransformer([(\"one_hot\", one_hot, categorial_cols)], remainder=\"passthrough\")"
   ]
  },
  {
   "cell_type": "code",
   "execution_count": null,
   "id": "0fae69fa-71fe-450a-bd4a-57f31f371033",
   "metadata": {},
   "outputs": [],
   "source": [
    "model = Pipeline(steps=[(\"transformer\", transformer),(\"regressor\", LinearRegression())])\n",
    "X_train, X_test, y_train, y_test = train_test_split(X, y, test_size=0.2, random_state=42)\n",
    "model.fit(X_train, y_train)\n",
    "y_pred = model.predict(X_test)\n",
    "rmse = mean_squared_error(y_test, y_pred)\n",
    "r2 = r2_score(y_test, y_pred)\n",
    "print(\"RMSE:\", rmse)\n",
    "print(\"R² Score:\", r2)\n",
    "print(data[\"Price Per Sq Ft (INR)\"].describe())"
   ]
  },
  {
   "cell_type": "code",
   "execution_count": null,
   "id": "f7bc821b-2113-43dc-bbc2-a64c91bafcf6",
   "metadata": {},
   "outputs": [],
   "source": [
    "from sklearn.metrics import mean_absolute_error\n",
    "mae = mean_absolute_error(y_test, y_pred)\n",
    "print(f\"MAE: ₹{mae:.2f}\")\n",
    "nrmse = rmse / y_test.mean()\n",
    "print(f\"NRMSE: {nrmse * 100:.2f}%\")"
   ]
  },
  {
   "cell_type": "code",
   "execution_count": null,
   "id": "2fe143f2-8beb-48e8-b65e-68aac9fc01d6",
   "metadata": {},
   "outputs": [],
   "source": [
    "import pickle\n",
    "with open(\"land_price_model.pkl\", \"wb\") as f:\n",
    "    pickle.dump(model, f)"
   ]
  },
  {
   "cell_type": "code",
   "execution_count": null,
   "id": "8829da8d-fcf3-463e-baa6-dff6ddbac15f",
   "metadata": {},
   "outputs": [],
   "source": []
  }
 ],
 "metadata": {
  "kernelspec": {
   "display_name": "Python 3 (ipykernel)",
   "language": "python",
   "name": "python3"
  },
  "language_info": {
   "codemirror_mode": {
    "name": "ipython",
    "version": 3
   },
   "file_extension": ".py",
   "mimetype": "text/x-python",
   "name": "python",
   "nbconvert_exporter": "python",
   "pygments_lexer": "ipython3",
   "version": "3.13.5"
  }
 },
 "nbformat": 4,
 "nbformat_minor": 5
}
